{
 "cells": [
  {
   "cell_type": "markdown",
   "metadata": {
    "id": "0nhLrW01esxK"
   },
   "source": [
    "# TF-IDF\n",
    "### Start from here"
   ]
  },
  {
   "cell_type": "code",
   "execution_count": 1,
   "metadata": {
    "id": "6FX2ICqMeuv7"
   },
   "outputs": [],
   "source": [
    "import pandas as pd\n",
    "\n",
    "data = pd.read_csv('annotated_conversational_data.csv')\n",
    "queries = data['Query'].tolist()\n",
    "suggestions = data['Suggested_Followup'].tolist()\n",
    "\n",
    "documents = queries + suggestions\n"
   ]
  },
  {
   "cell_type": "code",
   "execution_count": 2,
   "metadata": {
    "id": "9DwHADK-ex6T"
   },
   "outputs": [],
   "source": [
    "from sklearn.feature_extraction.text import TfidfVectorizer\n",
    "\n",
    "vectorizer = TfidfVectorizer(stop_words='english', lowercase=True)\n",
    "tfidf_matrix = vectorizer.fit_transform(documents)\n"
   ]
  },
  {
   "cell_type": "code",
   "execution_count": 3,
   "metadata": {
    "id": "mxyVKcfhe2zz"
   },
   "outputs": [],
   "source": [
    "from sklearn.metrics.pairwise import cosine_similarity\n",
    "\n",
    "def suggest_queries(input_query, vectorizer, tfidf_matrix, documents, top_n=3):\n",
    "    \"\"\"\n",
    "    Suggest follow-up queries based on an input query.\n",
    "\n",
    "    Args:\n",
    "        input_query (str): The initial query input by the user.\n",
    "        vectorizer (TfidfVectorizer): The fitted TF-IDF vectorizer.\n",
    "        tfidf_matrix (sparse matrix): TF-IDF matrix of the documents.\n",
    "        documents (list): List of documents (queries and suggestions).\n",
    "        top_n (int): Number of suggestions to return.\n",
    "\n",
    "    Returns:\n",
    "        list: Ranked list of suggested queries.\n",
    "    \"\"\"\n",
    "    input_vector = vectorizer.transform([input_query])\n",
    "    similarities = cosine_similarity(input_vector, tfidf_matrix).flatten()\n",
    "    ranked_indices = similarities.argsort()[::-1][:top_n]\n",
    "\n",
    "    return [documents[i] for i in ranked_indices if documents[i] != input_query][:top_n]\n"
   ]
  },
  {
   "cell_type": "markdown",
   "metadata": {
    "id": "nweto-HzoZBS"
   },
   "source": [
    "# Test follow-up queries"
   ]
  },
  {
   "cell_type": "code",
   "execution_count": 4,
   "metadata": {
    "colab": {
     "base_uri": "https://localhost:8080/"
    },
    "id": "7kk0aRJFe5sU",
    "outputId": "20b22ab9-38c2-4554-9516-f89b3e1bbbf0"
   },
   "outputs": [
    {
     "name": "stdout",
     "output_type": "stream",
     "text": [
      "Input Query: What are the benefits of yoga?\n",
      "Suggested Follow-up Queries:\n",
      "1. How do you do yoga?\n",
      "2. What is yoga all about?\n",
      "3. What is yoga for?\n"
     ]
    }
   ],
   "source": [
    "input_query = \"What are the benefits of yoga?\"\n",
    "suggested_queries = suggest_queries(input_query, vectorizer, tfidf_matrix, documents)\n",
    "\n",
    "print(\"Input Query:\", input_query)\n",
    "print(\"Suggested Follow-up Queries:\")\n",
    "for i, suggestion in enumerate(suggested_queries, 1):\n",
    "    print(f\"{i}. {suggestion}\")\n"
   ]
  },
  {
   "cell_type": "code",
   "execution_count": 5,
   "metadata": {
    "colab": {
     "base_uri": "https://localhost:8080/"
    },
    "id": "qKBtGjN-e9oq",
    "outputId": "6af41337-2865-4214-a6dc-d3a48f4c554d"
   },
   "outputs": [
    {
     "name": "stdout",
     "output_type": "stream",
     "text": [
      "Precision@3: 0.0\n"
     ]
    }
   ],
   "source": [
    "def precision_at_k(relevant, retrieved, k):\n",
    "    return len(set(relevant) & set(retrieved[:k])) / k\n",
    "\n",
    "relevant_suggestions = [\"How does yoga improve health?\", \"What are the mental benefits of yoga?\"]\n",
    "precision = precision_at_k(relevant_suggestions, suggested_queries, k=3)\n",
    "print(\"Precision@3:\", precision)\n"
   ]
  },
  {
   "cell_type": "markdown",
   "metadata": {},
   "source": [
    "# Simple Keyword Extraction"
   ]
  },
  {
   "cell_type": "code",
   "execution_count": 6,
   "metadata": {},
   "outputs": [
    {
     "data": {
      "text/plain": [
       "[('benefits', 0.7071067811865475), ('yoga', 0.7071067811865475)]"
      ]
     },
     "execution_count": 6,
     "metadata": {},
     "output_type": "execute_result"
    }
   ],
   "source": [
    "def simple_keyword(query, n=10):\n",
    "    corpus = [query]\n",
    "    # Compute TF-IDF\n",
    "    vectorizer = TfidfVectorizer(stop_words='english')\n",
    "    X = vectorizer.fit_transform(corpus)\n",
    "    \n",
    "    # Get keywords from the query\n",
    "    keywords = vectorizer.get_feature_names_out()\n",
    "    scores = X.toarray()[0]\n",
    "    keyword_scores = list(zip(keywords, scores))\n",
    "    sorted_keywords = sorted(keyword_scores, key=lambda x: x[1], reverse=True)\n",
    "    \n",
    "    return sorted_keywords[:n]\n",
    "\n",
    "simple_keyword(input_query)"
   ]
  },
  {
   "cell_type": "code",
   "execution_count": 7,
   "metadata": {},
   "outputs": [
    {
     "data": {
      "text/html": [
       "<div>\n",
       "<style scoped>\n",
       "    .dataframe tbody tr th:only-of-type {\n",
       "        vertical-align: middle;\n",
       "    }\n",
       "\n",
       "    .dataframe tbody tr th {\n",
       "        vertical-align: top;\n",
       "    }\n",
       "\n",
       "    .dataframe thead th {\n",
       "        text-align: right;\n",
       "    }\n",
       "</style>\n",
       "<table border=\"1\" class=\"dataframe\">\n",
       "  <thead>\n",
       "    <tr style=\"text-align: right;\">\n",
       "      <th></th>\n",
       "      <th>Query</th>\n",
       "      <th>Suggested_Followup</th>\n",
       "      <th>Context</th>\n",
       "      <th>keyword_1</th>\n",
       "    </tr>\n",
       "  </thead>\n",
       "  <tbody>\n",
       "    <tr>\n",
       "      <th>0</th>\n",
       "      <td>How can I be a good geologist?</td>\n",
       "      <td>What should I do to be a great geologist?</td>\n",
       "      <td>NaN</td>\n",
       "      <td>geologist, great</td>\n",
       "    </tr>\n",
       "    <tr>\n",
       "      <th>1</th>\n",
       "      <td>How do I read and find my YouTube comments?</td>\n",
       "      <td>How can I see all my Youtube comments?</td>\n",
       "      <td>NaN</td>\n",
       "      <td>comments, youtube</td>\n",
       "    </tr>\n",
       "    <tr>\n",
       "      <th>2</th>\n",
       "      <td>What can make Physics easy to learn?</td>\n",
       "      <td>How can you make physics easy to learn?</td>\n",
       "      <td>NaN</td>\n",
       "      <td>easy, learn, make, physics</td>\n",
       "    </tr>\n",
       "    <tr>\n",
       "      <th>3</th>\n",
       "      <td>What was your first sexual experience like?</td>\n",
       "      <td>What was your first sexual experience?</td>\n",
       "      <td>NaN</td>\n",
       "      <td>experience, sexual</td>\n",
       "    </tr>\n",
       "    <tr>\n",
       "      <th>4</th>\n",
       "      <td>What would a Trump presidency mean for current...</td>\n",
       "      <td>How will a Trump presidency affect the student...</td>\n",
       "      <td>NaN</td>\n",
       "      <td>affect, planning, presently, presidency, stude...</td>\n",
       "    </tr>\n",
       "  </tbody>\n",
       "</table>\n",
       "</div>"
      ],
      "text/plain": [
       "                                               Query  \\\n",
       "0                     How can I be a good geologist?   \n",
       "1        How do I read and find my YouTube comments?   \n",
       "2               What can make Physics easy to learn?   \n",
       "3        What was your first sexual experience like?   \n",
       "4  What would a Trump presidency mean for current...   \n",
       "\n",
       "                                  Suggested_Followup  Context  \\\n",
       "0          What should I do to be a great geologist?      NaN   \n",
       "1             How can I see all my Youtube comments?      NaN   \n",
       "2            How can you make physics easy to learn?      NaN   \n",
       "3             What was your first sexual experience?      NaN   \n",
       "4  How will a Trump presidency affect the student...      NaN   \n",
       "\n",
       "                                           keyword_1  \n",
       "0                                   geologist, great  \n",
       "1                                  comments, youtube  \n",
       "2                         easy, learn, make, physics  \n",
       "3                                 experience, sexual  \n",
       "4  affect, planning, presently, presidency, stude...  "
      ]
     },
     "execution_count": 7,
     "metadata": {},
     "output_type": "execute_result"
    }
   ],
   "source": [
    "data['keyword_1'] = [''] * len(data)\n",
    "\n",
    "for i in range(len(data)):\n",
    "    try:\n",
    "        data.loc[i,'keyword_1'] = ', '.join([k for k, v in simple_keyword(data.loc[i,'Suggested_Followup'])]) # + \" \" + data.loc[i,'Query'])])\n",
    "    except:\n",
    "        continue\n",
    "\n",
    "data.head(5)"
   ]
  },
  {
   "cell_type": "markdown",
   "metadata": {},
   "source": [
    "# Intermediate Keyword Extraction"
   ]
  },
  {
   "cell_type": "code",
   "execution_count": 8,
   "metadata": {},
   "outputs": [
    {
     "name": "stdout",
     "output_type": "stream",
     "text": [
      "Requirement already satisfied: rake-nltk in /opt/anaconda3/envs/ds/lib/python3.9/site-packages (1.0.6)\n",
      "Requirement already satisfied: nltk<4.0.0,>=3.6.2 in /opt/anaconda3/envs/ds/lib/python3.9/site-packages (from rake-nltk) (3.8.1)\n",
      "Requirement already satisfied: click in /opt/anaconda3/envs/ds/lib/python3.9/site-packages (from nltk<4.0.0,>=3.6.2->rake-nltk) (8.1.7)\n",
      "Requirement already satisfied: joblib in /opt/anaconda3/envs/ds/lib/python3.9/site-packages (from nltk<4.0.0,>=3.6.2->rake-nltk) (1.4.2)\n",
      "Requirement already satisfied: regex>=2021.8.3 in /opt/anaconda3/envs/ds/lib/python3.9/site-packages (from nltk<4.0.0,>=3.6.2->rake-nltk) (2024.5.15)\n",
      "Requirement already satisfied: tqdm in /opt/anaconda3/envs/ds/lib/python3.9/site-packages (from nltk<4.0.0,>=3.6.2->rake-nltk) (4.66.4)\n"
     ]
    }
   ],
   "source": [
    "!pip install rake-nltk"
   ]
  },
  {
   "cell_type": "code",
   "execution_count": 9,
   "metadata": {},
   "outputs": [
    {
     "data": {
      "text/plain": [
       "{'benefits', 'yoga'}"
      ]
     },
     "execution_count": 9,
     "metadata": {},
     "output_type": "execute_result"
    }
   ],
   "source": [
    "from rake_nltk import Rake\n",
    "\n",
    "def rake_keyword(query):\n",
    "    # Use RAKE to extract keywords\n",
    "    r = Rake()\n",
    "    r.extract_keywords_from_text(query)\n",
    "    keywords = r.get_ranked_phrases()\n",
    "    return set(keywords)\n",
    "\n",
    "rake_keyword(input_query)"
   ]
  },
  {
   "cell_type": "code",
   "execution_count": 10,
   "metadata": {},
   "outputs": [
    {
     "data": {
      "text/html": [
       "<div>\n",
       "<style scoped>\n",
       "    .dataframe tbody tr th:only-of-type {\n",
       "        vertical-align: middle;\n",
       "    }\n",
       "\n",
       "    .dataframe tbody tr th {\n",
       "        vertical-align: top;\n",
       "    }\n",
       "\n",
       "    .dataframe thead th {\n",
       "        text-align: right;\n",
       "    }\n",
       "</style>\n",
       "<table border=\"1\" class=\"dataframe\">\n",
       "  <thead>\n",
       "    <tr style=\"text-align: right;\">\n",
       "      <th></th>\n",
       "      <th>Query</th>\n",
       "      <th>Suggested_Followup</th>\n",
       "      <th>Context</th>\n",
       "      <th>keyword_1</th>\n",
       "      <th>keyword_2</th>\n",
       "    </tr>\n",
       "  </thead>\n",
       "  <tbody>\n",
       "    <tr>\n",
       "      <th>0</th>\n",
       "      <td>How can I be a good geologist?</td>\n",
       "      <td>What should I do to be a great geologist?</td>\n",
       "      <td>NaN</td>\n",
       "      <td>geologist, great</td>\n",
       "      <td>great geologist</td>\n",
       "    </tr>\n",
       "    <tr>\n",
       "      <th>1</th>\n",
       "      <td>How do I read and find my YouTube comments?</td>\n",
       "      <td>How can I see all my Youtube comments?</td>\n",
       "      <td>NaN</td>\n",
       "      <td>comments, youtube</td>\n",
       "      <td>see, youtube comments</td>\n",
       "    </tr>\n",
       "    <tr>\n",
       "      <th>2</th>\n",
       "      <td>What can make Physics easy to learn?</td>\n",
       "      <td>How can you make physics easy to learn?</td>\n",
       "      <td>NaN</td>\n",
       "      <td>easy, learn, make, physics</td>\n",
       "      <td>learn, make physics easy</td>\n",
       "    </tr>\n",
       "    <tr>\n",
       "      <th>3</th>\n",
       "      <td>What was your first sexual experience like?</td>\n",
       "      <td>What was your first sexual experience?</td>\n",
       "      <td>NaN</td>\n",
       "      <td>experience, sexual</td>\n",
       "      <td>first sexual experience</td>\n",
       "    </tr>\n",
       "    <tr>\n",
       "      <th>4</th>\n",
       "      <td>What would a Trump presidency mean for current...</td>\n",
       "      <td>How will a Trump presidency affect the student...</td>\n",
       "      <td>NaN</td>\n",
       "      <td>affect, planning, presently, presidency, stude...</td>\n",
       "      <td>planning, trump presidency affect, study, us, ...</td>\n",
       "    </tr>\n",
       "  </tbody>\n",
       "</table>\n",
       "</div>"
      ],
      "text/plain": [
       "                                               Query  \\\n",
       "0                     How can I be a good geologist?   \n",
       "1        How do I read and find my YouTube comments?   \n",
       "2               What can make Physics easy to learn?   \n",
       "3        What was your first sexual experience like?   \n",
       "4  What would a Trump presidency mean for current...   \n",
       "\n",
       "                                  Suggested_Followup  Context  \\\n",
       "0          What should I do to be a great geologist?      NaN   \n",
       "1             How can I see all my Youtube comments?      NaN   \n",
       "2            How can you make physics easy to learn?      NaN   \n",
       "3             What was your first sexual experience?      NaN   \n",
       "4  How will a Trump presidency affect the student...      NaN   \n",
       "\n",
       "                                           keyword_1  \\\n",
       "0                                   geologist, great   \n",
       "1                                  comments, youtube   \n",
       "2                         easy, learn, make, physics   \n",
       "3                                 experience, sexual   \n",
       "4  affect, planning, presently, presidency, stude...   \n",
       "\n",
       "                                           keyword_2  \n",
       "0                                    great geologist  \n",
       "1                              see, youtube comments  \n",
       "2                           learn, make physics easy  \n",
       "3                            first sexual experience  \n",
       "4  planning, trump presidency affect, study, us, ...  "
      ]
     },
     "execution_count": 10,
     "metadata": {},
     "output_type": "execute_result"
    }
   ],
   "source": [
    "data['keyword_2'] = [''] * len(data)\n",
    "\n",
    "for i in range(len(data)):\n",
    "    try:\n",
    "        data.loc[i,'keyword_2'] = ', '.join(rake_keyword(data.loc[i,'Suggested_Followup'])) # + \" \" + data.loc[i,'Query']))\n",
    "    except:\n",
    "        continue\n",
    "\n",
    "data.head(5)"
   ]
  },
  {
   "cell_type": "markdown",
   "metadata": {},
   "source": [
    "# Query Retrieval by Keywords"
   ]
  },
  {
   "cell_type": "code",
   "execution_count": 11,
   "metadata": {},
   "outputs": [
    {
     "name": "stdout",
     "output_type": "stream",
     "text": [
      "Input Query: yoga benefits\n",
      "Best Match in Dataset: How do you even do yoga?\n",
      "Suggested Follow-up Queries:\n",
      "1. How do you do yoga?\n"
     ]
    }
   ],
   "source": [
    "import pandas as pd\n",
    "from fuzzywuzzy import process\n",
    "import re\n",
    "\n",
    "# Load annotated data\n",
    "# data = pd.read_csv('annotated_conversational_data.csv')\n",
    "\n",
    "# Text Preprocessing Function\n",
    "def preprocess_text(text):\n",
    "    if pd.isna(text):\n",
    "        return \"\"\n",
    "    text = text.lower()  # Lowercase\n",
    "    text = re.sub(r'[^\\w\\s]', '', text)  # Remove punctuation\n",
    "    text = re.sub(r'\\s+', ' ', text).strip()  # Remove extra spaces\n",
    "    return text\n",
    "\n",
    "# Preprocess the dataset columns\n",
    "data['Query'] = data['Query'].apply(preprocess_text)\n",
    "data['Suggested_Followup'] = data['Suggested_Followup'].apply(preprocess_text)\n",
    "data['keyword_1'] = data['keyword_1'].apply(preprocess_text)\n",
    "data['keyword_2'] = data['keyword_2'].apply(preprocess_text)\n",
    "\n",
    "# Function to find the best match and its follow-ups\n",
    "def find_best_match_and_followups(input_query, data, threshold=70):\n",
    "    \"\"\"\n",
    "    Find the best matching query in the dataset for the input query and return its follow-ups.\n",
    "\n",
    "    Args:\n",
    "        input_query (str): The user's input query.\n",
    "        data (DataFrame): The dataframe containing 'Query', 'Suggested_Followup', and keywords.\n",
    "        threshold (int): Minimum score for a match to be considered valid (0-100).\n",
    "\n",
    "    Returns:\n",
    "        tuple: The best match from the dataset and a list of its suggested follow-ups.\n",
    "    \"\"\"\n",
    "    # Preprocess the input query\n",
    "    input_query_processed = preprocess_text(input_query)\n",
    "    \n",
    "    # Combine all keywords into a single search field\n",
    "    data['combined_keywords'] = data['keyword_1'] + \" \" + data['keyword_2']\n",
    "    \n",
    "    # Search for the best match across queries and keywords\n",
    "    all_options = data['Query'].tolist() + data['combined_keywords'].tolist()\n",
    "    best_match, score = process.extractOne(input_query_processed, all_options)\n",
    "    \n",
    "    # Determine if the match is a query or a keyword\n",
    "    if best_match in data['Query'].tolist():\n",
    "        matched_query = best_match\n",
    "    else:\n",
    "        matched_query = data[data['combined_keywords'] == best_match]['Query'].iloc[0]\n",
    "    \n",
    "    # Check if the match score meets the threshold\n",
    "    if score >= threshold:\n",
    "        followups = data[data['Query'] == matched_query]['Suggested_Followup'].tolist()\n",
    "        \n",
    "        # Format suggestions: capitalize and ensure ending question marks\n",
    "        formatted_followups = [\n",
    "            suggestion.capitalize() + \"?\"\n",
    "            if not suggestion.endswith(\"?\") else suggestion.capitalize()\n",
    "            for suggestion in followups\n",
    "        ]\n",
    "        \n",
    "        # Capitalize and punctuate the matched query\n",
    "        matched_query_formatted = matched_query.capitalize() + \"?\"\n",
    "        \n",
    "        return matched_query_formatted, formatted_followups\n",
    "    else:\n",
    "        return None, [\"No matching query found in the dataset.\"]\n",
    "\n",
    "# Test with an input query\n",
    "input_query = \"yoga benefits\"\n",
    "best_match, suggested_followups = find_best_match_and_followups(input_query, data)\n",
    "\n",
    "print(\"Input Query:\", input_query)\n",
    "print(\"Best Match in Dataset:\", best_match)\n",
    "print(\"Suggested Follow-up Queries:\")\n",
    "for i, suggestion in enumerate(suggested_followups, 1):\n",
    "    print(f\"{i}. {suggestion}\")"
   ]
  },
  {
   "cell_type": "markdown",
   "metadata": {},
   "source": [
    "# BM25 Query Retrieval and Re-ranking\n",
    "reference: \n",
    "- https://dev.to/mage_ai/how-to-build-a-search-engine-with-word-embeddings-56jd\n",
    "- https://github.com/czhu12/semantic-search/blob/master/search.py"
   ]
  },
  {
   "cell_type": "code",
   "execution_count": 12,
   "metadata": {},
   "outputs": [
    {
     "name": "stdout",
     "output_type": "stream",
     "text": [
      "Requirement already satisfied: rank_bm25 in /opt/anaconda3/envs/ds/lib/python3.9/site-packages (0.2.2)\n",
      "Requirement already satisfied: numpy in /opt/anaconda3/envs/ds/lib/python3.9/site-packages (from rank_bm25) (1.26.4)\n"
     ]
    }
   ],
   "source": [
    "!pip install rank_bm25"
   ]
  },
  {
   "cell_type": "code",
   "execution_count": 13,
   "metadata": {},
   "outputs": [],
   "source": [
    "from rank_bm25 import BM25Okapi as BM25\n",
    "import gensim\n",
    "from gensim import corpora\n",
    "import gensim.downloader as api\n",
    "import numpy as np\n",
    "import logging\n",
    "logging.basicConfig(level=logging.DEBUG)\n",
    "\n",
    "class Retriever(object):\n",
    "    def __init__(self, documents):\n",
    "        self.corpus = documents\n",
    "        self.bm25 = BM25(self.corpus)\n",
    "\n",
    "    def query(self, tokenized_query, n=100):\n",
    "        scores = self.bm25.get_scores(tokenized_query)\n",
    "        best_docs = sorted(range(len(scores)), key=lambda i: -scores[i])[:n]\n",
    "        return best_docs, [scores[i] for i in best_docs]\n",
    "\n",
    "\n",
    "class Ranker(object):\n",
    "    def __init__(self, query_embedding, document_embedding):\n",
    "        self.query_embedding = query_embedding\n",
    "        self.document_embedding = document_embedding\n",
    "\n",
    "    def _create_mean_embedding(self, word_embeddings):\n",
    "        return np.mean(\n",
    "            word_embeddings,\n",
    "            axis=0,\n",
    "        )\n",
    "\n",
    "    def _create_max_embedding(self, word_embeddings):\n",
    "        return np.amax(\n",
    "            word_embeddings,\n",
    "            axis=0,\n",
    "        )\n",
    "\n",
    "    def _embed(self, tokens, embedding):\n",
    "        word_embeddings = np.array([embedding[token] for token in tokens if token in embedding])\n",
    "        mean_embedding = self._create_mean_embedding(word_embeddings)\n",
    "        max_embedding = self._create_max_embedding(word_embeddings)\n",
    "        embedding = np.concatenate([mean_embedding, max_embedding])\n",
    "        unit_embedding = embedding / (embedding**2).sum()**0.5\n",
    "        return unit_embedding\n",
    "\n",
    "    def rank(self, tokenized_query, tokenized_documents):\n",
    "        \"\"\"\n",
    "        Re-ranks a set of documents according to embedding distance\n",
    "        \"\"\"\n",
    "        query_embedding = self._embed(tokenized_query, self.query_embedding) # (E,)\n",
    "        document_embeddings = np.array([self._embed(document, self.document_embedding) for document in tokenized_documents]) # (N, E)\n",
    "        scores = document_embeddings.dot(query_embedding)\n",
    "        index_rankings = np.argsort(scores)[::-1]\n",
    "        return index_rankings, np.sort(scores)[::-1]\n",
    "\n",
    "\n",
    "def tokenize(document):\n",
    "    return list(gensim.utils.tokenize(document.lower()))\n",
    "\n",
    "\n",
    "def show_scores(documents, scores, n=10):\n",
    "    for i in range(n):\n",
    "        print(\"======== RANK: {} | SCORE: {} =======\".format(i + 1, scores[i]))\n",
    "        print(documents[i])\n",
    "        print(\"\")\n",
    "    print(\"\\n\")"
   ]
  },
  {
   "cell_type": "code",
   "execution_count": 14,
   "metadata": {},
   "outputs": [
    {
     "name": "stdout",
     "output_type": "stream",
     "text": [
      "Input Query: yoga benefits\n"
     ]
    },
    {
     "name": "stderr",
     "output_type": "stream",
     "text": [
      "INFO:gensim.models.keyedvectors:loading projection weights from /Users/Kaito.01/gensim-data/glove-wiki-gigaword-50/glove-wiki-gigaword-50.gz\n",
      "DEBUG:smart_open.smart_open_lib:{'uri': '/Users/Kaito.01/gensim-data/glove-wiki-gigaword-50/glove-wiki-gigaword-50.gz', 'mode': 'rb', 'buffering': -1, 'encoding': None, 'errors': None, 'newline': None, 'closefd': True, 'opener': None, 'compression': 'infer_from_extension', 'transport_params': None}\n"
     ]
    },
    {
     "name": "stdout",
     "output_type": "stream",
     "text": [
      "======== BM25 ========\n",
      "======== RANK: 1 | SCORE: 17.651901519395544 =======\n",
      "What are the benefits of hot yoga vs regular yoga?\n",
      "\n",
      "======== RANK: 2 | SCORE: 16.419689680387837 =======\n",
      "What is Kriya yoga and what are the benefits of Kriya yoga?\n",
      "\n",
      "======== RANK: 3 | SCORE: 16.27424797451028 =======\n",
      "What are the benefits of Kriya yoga?\n",
      "\n",
      "======== RANK: 4 | SCORE: 16.27424797451028 =======\n",
      "What are the benefits of yoga therapy?\n",
      "\n",
      "======== RANK: 5 | SCORE: 12.353036963217269 =======\n",
      "How beneficial is hot yoga compared to regular yoga?\n",
      "\n",
      "======== RANK: 6 | SCORE: 11.498805702600594 =======\n",
      "How does yoga work?\n",
      "\n",
      "======== RANK: 7 | SCORE: 11.498805702600594 =======\n",
      "What is yoga for?\n",
      "\n",
      "======== RANK: 8 | SCORE: 10.804204963049374 =======\n",
      "What is yoga all about?\n",
      "\n",
      "======== RANK: 9 | SCORE: 10.804204963049374 =======\n",
      "How do you do yoga?\n",
      "\n",
      "======== RANK: 10 | SCORE: 10.188740466462589 =======\n",
      "How do you even do yoga?\n",
      "\n",
      "======== RANK: 11 | SCORE: 9.948243051365603 =======\n",
      "What are the reasons why you wear yoga pants outside of yoga class or working out?\n",
      "\n",
      "======== RANK: 12 | SCORE: 9.639617040061363 =======\n",
      "What are best website for learning yoga?\n",
      "\n",
      "======== RANK: 13 | SCORE: 9.639617040061363 =======\n",
      "What are Yoga poses to lose weight?\n",
      "\n",
      "======== RANK: 14 | SCORE: 9.639617040061363 =======\n",
      "How do I income in yoga field?\n",
      "\n",
      "======== RANK: 15 | SCORE: 9.639617040061363 =======\n",
      "What are Yoga poses to lose weight?\n",
      "\n",
      "======== RANK: 16 | SCORE: 9.639617040061363 =======\n",
      "What are the advantage of yoga therapy?\n",
      "\n",
      "======== RANK: 17 | SCORE: 9.639617040061363 =======\n",
      "How can I become a yoga teacher?\n",
      "\n",
      "======== RANK: 18 | SCORE: 9.146656839499316 =======\n",
      "Why do women wear yoga pants in public?\n",
      "\n",
      "======== RANK: 19 | SCORE: 9.146656839499316 =======\n",
      "What is needed to become a yoga teacher?\n",
      "\n",
      "======== RANK: 20 | SCORE: 9.146656839499316 =======\n",
      "What is yoga and how does it work?\n",
      "\n",
      "\n",
      "\n",
      "Loading glove embeddings..."
     ]
    },
    {
     "name": "stderr",
     "output_type": "stream",
     "text": [
      "DEBUG:gensim.utils:starting a new internal lifecycle event log for KeyedVectors\n",
      "INFO:gensim.utils:KeyedVectors lifecycle event {'msg': 'loaded (400000, 50) matrix of type float32 from /Users/Kaito.01/gensim-data/glove-wiki-gigaword-50/glove-wiki-gigaword-50.gz', 'binary': False, 'encoding': 'utf8', 'datetime': '2024-12-08T14:16:51.415736', 'gensim': '4.3.3', 'python': '3.9.19 | packaged by conda-forge | (main, Mar 20 2024, 12:53:33) \\n[Clang 16.0.6 ]', 'platform': 'macOS-14.6.1-x86_64-i386-64bit', 'event': 'load_word2vec_format'}\n"
     ]
    },
    {
     "name": "stdout",
     "output_type": "stream",
     "text": [
      " [DONE]\n",
      "======== Embedding ========\n",
      "======== RANK: 1 | SCORE: 0.8979606628417969 =======\n",
      "What are the benefits of Kriya yoga?\n",
      "\n",
      "======== RANK: 2 | SCORE: 0.8871358633041382 =======\n",
      "What are transcendental meditation benefits?\n",
      "\n",
      "======== RANK: 3 | SCORE: 0.8851885795593262 =======\n",
      "What is Kriya yoga and what are the benefits of Kriya yoga?\n",
      "\n",
      "======== RANK: 4 | SCORE: 0.8817725777626038 =======\n",
      "What are the benefits of yoga therapy?\n",
      "\n",
      "======== RANK: 5 | SCORE: 0.8450735807418823 =======\n",
      "How does yoga work?\n",
      "\n",
      "======== RANK: 6 | SCORE: 0.8437056541442871 =======\n",
      "What is yoga for?\n",
      "\n",
      "======== RANK: 7 | SCORE: 0.8406001329421997 =======\n",
      "What are the advantage of yoga therapy?\n",
      "\n",
      "======== RANK: 8 | SCORE: 0.8342301249504089 =======\n",
      "What are Yoga poses to lose weight?\n",
      "\n",
      "======== RANK: 9 | SCORE: 0.8342301249504089 =======\n",
      "What are Yoga poses to lose weight?\n",
      "\n",
      "======== RANK: 10 | SCORE: 0.8331115245819092 =======\n",
      "What is yoga all about?\n",
      "\n",
      "======== RANK: 11 | SCORE: 0.8186991214752197 =======\n",
      "What are some yoga poses to help me lose weight?\n",
      "\n",
      "======== RANK: 12 | SCORE: 0.8186991214752197 =======\n",
      "What are some yoga poses to help me lose weight?\n",
      "\n",
      "======== RANK: 13 | SCORE: 0.8166158199310303 =======\n",
      "How do I income in yoga field?\n",
      "\n",
      "======== RANK: 14 | SCORE: 0.8127284646034241 =======\n",
      "How can I become a yoga teacher?\n",
      "\n",
      "======== RANK: 15 | SCORE: 0.8084737062454224 =======\n",
      "What is needed to become a yoga teacher?\n",
      "\n",
      "======== RANK: 16 | SCORE: 0.8068727850914001 =======\n",
      "What are some good yoga techniques for weight loss?\n",
      "\n",
      "======== RANK: 17 | SCORE: 0.8057777881622314 =======\n",
      "How much time does it take to lose weight doing yoga?\n",
      "\n",
      "======== RANK: 18 | SCORE: 0.8053250908851624 =======\n",
      "What are some tips for practicing yoga at home?\n",
      "\n",
      "======== RANK: 19 | SCORE: 0.8034663200378418 =======\n",
      "What is yoga and how does it work?\n",
      "\n",
      "======== RANK: 20 | SCORE: 0.8022218942642212 =======\n",
      "How can I earn high income in yoga field?\n",
      "\n",
      "\n",
      "\n"
     ]
    }
   ],
   "source": [
    "print(\"Input Query: {}\".format(input_query))\n",
    "\n",
    "# tokenize\n",
    "corpus = [list(gensim.utils.tokenize(doc.lower())) for doc in data['Query'].tolist() + data['Suggested_Followup'].tolist()]\n",
    "tokenized_query = tokenize(input_query)\n",
    "\n",
    "# Retrieval\n",
    "retriever = Retriever(corpus)\n",
    "retrieval_indexes, retrieval_scores = retriever.query(tokenized_query)\n",
    "\n",
    "retrieved_documents = [documents[idx] for idx in retrieval_indexes]\n",
    "print(\"======== BM25 ========\")\n",
    "show_scores(retrieved_documents, retrieval_scores, 20)\n",
    "\n",
    "tokenzed_retrieved_documents = [corpus[idx] for idx in retrieval_indexes]\n",
    "\n",
    "# re-ranking\n",
    "print(\"Loading glove embeddings...\", end=\"\")\n",
    "query_embedding = api.load('glove-wiki-gigaword-50')\n",
    "print(\" [DONE]\")\n",
    "ranker = Ranker(query_embedding=query_embedding, document_embedding=query_embedding)\n",
    "ranker_indexes, ranker_scores = ranker.rank(tokenized_query, tokenzed_retrieved_documents)\n",
    "reranked_documents = [retrieved_documents[idx] for idx in ranker_indexes]\n",
    "\n",
    "print(\"======== Embedding ========\")\n",
    "show_scores(reranked_documents, ranker_scores, 20)"
   ]
  },
  {
   "cell_type": "code",
   "execution_count": null,
   "metadata": {},
   "outputs": [],
   "source": []
  }
 ],
 "metadata": {
  "colab": {
   "provenance": []
  },
  "kernelspec": {
   "display_name": "Python 3 (ipykernel)",
   "language": "python",
   "name": "python3"
  },
  "language_info": {
   "codemirror_mode": {
    "name": "ipython",
    "version": 3
   },
   "file_extension": ".py",
   "mimetype": "text/x-python",
   "name": "python",
   "nbconvert_exporter": "python",
   "pygments_lexer": "ipython3",
   "version": "3.9.19"
  }
 },
 "nbformat": 4,
 "nbformat_minor": 4
}
