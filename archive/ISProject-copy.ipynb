{
 "cells": [
  {
   "cell_type": "markdown",
   "metadata": {
    "id": "0nhLrW01esxK"
   },
   "source": [
    "# TF-IDF\n",
    "### Start from here"
   ]
  },
  {
   "cell_type": "code",
   "execution_count": 1,
   "metadata": {
    "id": "6FX2ICqMeuv7"
   },
   "outputs": [],
   "source": [
    "import pandas as pd\n",
    "\n",
    "data = pd.read_csv('annotated_conversational_data.csv')\n",
    "queries = data['Query'].tolist()\n",
    "suggestions = data['Suggested_Followup'].tolist()\n",
    "\n",
    "documents = queries + suggestions\n"
   ]
  },
  {
   "cell_type": "code",
   "execution_count": 2,
   "metadata": {
    "id": "9DwHADK-ex6T"
   },
   "outputs": [],
   "source": [
    "from sklearn.feature_extraction.text import TfidfVectorizer\n",
    "\n",
    "vectorizer = TfidfVectorizer(stop_words='english', lowercase=True)\n",
    "tfidf_matrix = vectorizer.fit_transform(documents)\n"
   ]
  },
  {
   "cell_type": "code",
   "execution_count": 3,
   "metadata": {
    "id": "mxyVKcfhe2zz"
   },
   "outputs": [],
   "source": [
    "from sklearn.metrics.pairwise import cosine_similarity\n",
    "\n",
    "def suggest_queries(input_query, vectorizer, tfidf_matrix, documents, top_n=3):\n",
    "    \"\"\"\n",
    "    Suggest follow-up queries based on an input query.\n",
    "\n",
    "    Args:\n",
    "        input_query (str): The initial query input by the user.\n",
    "        vectorizer (TfidfVectorizer): The fitted TF-IDF vectorizer.\n",
    "        tfidf_matrix (sparse matrix): TF-IDF matrix of the documents.\n",
    "        documents (list): List of documents (queries and suggestions).\n",
    "        top_n (int): Number of suggestions to return.\n",
    "\n",
    "    Returns:\n",
    "        list: Ranked list of suggested queries.\n",
    "    \"\"\"\n",
    "    input_vector = vectorizer.transform([input_query])\n",
    "    similarities = cosine_similarity(input_vector, tfidf_matrix).flatten()\n",
    "    ranked_indices = similarities.argsort()[::-1][:top_n]\n",
    "\n",
    "    return [documents[i] for i in ranked_indices if documents[i] != input_query][:top_n]\n"
   ]
  },
  {
   "cell_type": "markdown",
   "metadata": {
    "id": "nweto-HzoZBS"
   },
   "source": [
    "# Test follow-up queries"
   ]
  },
  {
   "cell_type": "code",
   "execution_count": 4,
   "metadata": {
    "colab": {
     "base_uri": "https://localhost:8080/"
    },
    "id": "7kk0aRJFe5sU",
    "outputId": "20b22ab9-38c2-4554-9516-f89b3e1bbbf0"
   },
   "outputs": [
    {
     "name": "stdout",
     "output_type": "stream",
     "text": [
      "Input Query: What are the benefits of yoga?\n",
      "Suggested Follow-up Queries:\n",
      "1. How do you do yoga?\n",
      "2. What is yoga all about?\n",
      "3. What is yoga for?\n"
     ]
    }
   ],
   "source": [
    "input_query = \"What are the benefits of yoga?\"\n",
    "suggested_queries = suggest_queries(input_query, vectorizer, tfidf_matrix, documents)\n",
    "\n",
    "print(\"Input Query:\", input_query)\n",
    "print(\"Suggested Follow-up Queries:\")\n",
    "for i, suggestion in enumerate(suggested_queries, 1):\n",
    "    print(f\"{i}. {suggestion}\")\n"
   ]
  },
  {
   "cell_type": "code",
   "execution_count": 5,
   "metadata": {
    "colab": {
     "base_uri": "https://localhost:8080/"
    },
    "id": "qKBtGjN-e9oq",
    "outputId": "6af41337-2865-4214-a6dc-d3a48f4c554d"
   },
   "outputs": [
    {
     "name": "stdout",
     "output_type": "stream",
     "text": [
      "Precision@3: 0.0\n"
     ]
    }
   ],
   "source": [
    "def precision_at_k(relevant, retrieved, k):\n",
    "    return len(set(relevant) & set(retrieved[:k])) / k\n",
    "\n",
    "relevant_suggestions = [\"How does yoga improve health?\", \"What are the mental benefits of yoga?\"]\n",
    "precision = precision_at_k(relevant_suggestions, suggested_queries, k=3)\n",
    "print(\"Precision@3:\", precision)\n"
   ]
  },
  {
   "cell_type": "markdown",
   "metadata": {},
   "source": [
    "# Simple Keyword Extraction"
   ]
  },
  {
   "cell_type": "code",
   "execution_count": 6,
   "metadata": {},
   "outputs": [
    {
     "data": {
      "text/plain": [
       "[('benefits', 0.7071067811865475), ('yoga', 0.7071067811865475)]"
      ]
     },
     "execution_count": 6,
     "metadata": {},
     "output_type": "execute_result"
    }
   ],
   "source": [
    "def simple_keyword(query, n=10):\n",
    "    corpus = [query]\n",
    "    # Compute TF-IDF\n",
    "    vectorizer = TfidfVectorizer(stop_words='english')\n",
    "    X = vectorizer.fit_transform(corpus)\n",
    "    \n",
    "    # Get keywords from the query\n",
    "    keywords = vectorizer.get_feature_names_out()\n",
    "    scores = X.toarray()[0]\n",
    "    keyword_scores = list(zip(keywords, scores))\n",
    "    sorted_keywords = sorted(keyword_scores, key=lambda x: x[1], reverse=True)\n",
    "    \n",
    "    return sorted_keywords[:n]\n",
    "\n",
    "simple_keyword(input_query)"
   ]
  },
  {
   "cell_type": "code",
   "execution_count": 7,
   "metadata": {},
   "outputs": [
    {
     "data": {
      "text/html": [
       "<div>\n",
       "<style scoped>\n",
       "    .dataframe tbody tr th:only-of-type {\n",
       "        vertical-align: middle;\n",
       "    }\n",
       "\n",
       "    .dataframe tbody tr th {\n",
       "        vertical-align: top;\n",
       "    }\n",
       "\n",
       "    .dataframe thead th {\n",
       "        text-align: right;\n",
       "    }\n",
       "</style>\n",
       "<table border=\"1\" class=\"dataframe\">\n",
       "  <thead>\n",
       "    <tr style=\"text-align: right;\">\n",
       "      <th></th>\n",
       "      <th>Query</th>\n",
       "      <th>Suggested_Followup</th>\n",
       "      <th>Context</th>\n",
       "      <th>keyword_1</th>\n",
       "    </tr>\n",
       "  </thead>\n",
       "  <tbody>\n",
       "    <tr>\n",
       "      <th>0</th>\n",
       "      <td>How can I be a good geologist?</td>\n",
       "      <td>What should I do to be a great geologist?</td>\n",
       "      <td>NaN</td>\n",
       "      <td>geologist, great</td>\n",
       "    </tr>\n",
       "    <tr>\n",
       "      <th>1</th>\n",
       "      <td>How do I read and find my YouTube comments?</td>\n",
       "      <td>How can I see all my Youtube comments?</td>\n",
       "      <td>NaN</td>\n",
       "      <td>comments, youtube</td>\n",
       "    </tr>\n",
       "    <tr>\n",
       "      <th>2</th>\n",
       "      <td>What can make Physics easy to learn?</td>\n",
       "      <td>How can you make physics easy to learn?</td>\n",
       "      <td>NaN</td>\n",
       "      <td>easy, learn, make, physics</td>\n",
       "    </tr>\n",
       "    <tr>\n",
       "      <th>3</th>\n",
       "      <td>What was your first sexual experience like?</td>\n",
       "      <td>What was your first sexual experience?</td>\n",
       "      <td>NaN</td>\n",
       "      <td>experience, sexual</td>\n",
       "    </tr>\n",
       "    <tr>\n",
       "      <th>4</th>\n",
       "      <td>What would a Trump presidency mean for current...</td>\n",
       "      <td>How will a Trump presidency affect the student...</td>\n",
       "      <td>NaN</td>\n",
       "      <td>affect, planning, presently, presidency, stude...</td>\n",
       "    </tr>\n",
       "  </tbody>\n",
       "</table>\n",
       "</div>"
      ],
      "text/plain": [
       "                                               Query  \\\n",
       "0                     How can I be a good geologist?   \n",
       "1        How do I read and find my YouTube comments?   \n",
       "2               What can make Physics easy to learn?   \n",
       "3        What was your first sexual experience like?   \n",
       "4  What would a Trump presidency mean for current...   \n",
       "\n",
       "                                  Suggested_Followup  Context  \\\n",
       "0          What should I do to be a great geologist?      NaN   \n",
       "1             How can I see all my Youtube comments?      NaN   \n",
       "2            How can you make physics easy to learn?      NaN   \n",
       "3             What was your first sexual experience?      NaN   \n",
       "4  How will a Trump presidency affect the student...      NaN   \n",
       "\n",
       "                                           keyword_1  \n",
       "0                                   geologist, great  \n",
       "1                                  comments, youtube  \n",
       "2                         easy, learn, make, physics  \n",
       "3                                 experience, sexual  \n",
       "4  affect, planning, presently, presidency, stude...  "
      ]
     },
     "execution_count": 7,
     "metadata": {},
     "output_type": "execute_result"
    }
   ],
   "source": [
    "data['keyword_1'] = [''] * len(data)\n",
    "\n",
    "for i in range(len(data)):\n",
    "    try:\n",
    "        data.loc[i,'keyword_1'] = ', '.join([k for k, v in simple_keyword(data.loc[i,'Suggested_Followup'])]) # + \" \" + data.loc[i,'Query'])])\n",
    "    except:\n",
    "        continue\n",
    "\n",
    "data.head(5)"
   ]
  },
  {
   "cell_type": "markdown",
   "metadata": {},
   "source": [
    "# Intermediate Keyword Extraction"
   ]
  },
  {
   "cell_type": "code",
   "execution_count": 8,
   "metadata": {},
   "outputs": [
    {
     "name": "stderr",
     "output_type": "stream",
     "text": [
      "[nltk_data] Downloading package punkt_tab to\n",
      "[nltk_data]     C:\\Users\\zonne\\AppData\\Roaming\\nltk_data...\n",
      "[nltk_data]   Package punkt_tab is already up-to-date!\n"
     ]
    },
    {
     "data": {
      "text/plain": [
       "True"
      ]
     },
     "execution_count": 8,
     "metadata": {},
     "output_type": "execute_result"
    }
   ],
   "source": [
    "# !pip install rake-nltk\n",
    "# %pip install rake-nltk\n",
    "import nltk\n",
    "# %pip install nltk\n",
    "nltk.download('punkt_tab')"
   ]
  },
  {
   "cell_type": "code",
   "execution_count": null,
   "metadata": {},
   "outputs": [
    {
     "data": {
      "text/plain": [
       "{'benefits', 'yoga'}"
      ]
     },
     "execution_count": 9,
     "metadata": {},
     "output_type": "execute_result"
    }
   ],
   "source": [
    "from rake_nltk import Rake\n",
    "\n",
    "def rake_keyword(query):\n",
    "    # Use RAKE to extract keywords\n",
    "    r = Rake()\n",
    "    r.extract_keywords_from_text(query)\n",
    "    keywords = r.get_ranked_phrases()\n",
    "    return set(keywords)\n",
    "\n",
    "rake_keyword(input_query)"
   ]
  },
  {
   "cell_type": "code",
   "execution_count": 10,
   "metadata": {},
   "outputs": [
    {
     "data": {
      "text/html": [
       "<div>\n",
       "<style scoped>\n",
       "    .dataframe tbody tr th:only-of-type {\n",
       "        vertical-align: middle;\n",
       "    }\n",
       "\n",
       "    .dataframe tbody tr th {\n",
       "        vertical-align: top;\n",
       "    }\n",
       "\n",
       "    .dataframe thead th {\n",
       "        text-align: right;\n",
       "    }\n",
       "</style>\n",
       "<table border=\"1\" class=\"dataframe\">\n",
       "  <thead>\n",
       "    <tr style=\"text-align: right;\">\n",
       "      <th></th>\n",
       "      <th>Query</th>\n",
       "      <th>Suggested_Followup</th>\n",
       "      <th>Context</th>\n",
       "      <th>keyword_1</th>\n",
       "      <th>keyword_2</th>\n",
       "    </tr>\n",
       "  </thead>\n",
       "  <tbody>\n",
       "    <tr>\n",
       "      <th>0</th>\n",
       "      <td>How can I be a good geologist?</td>\n",
       "      <td>What should I do to be a great geologist?</td>\n",
       "      <td>NaN</td>\n",
       "      <td>geologist, great</td>\n",
       "      <td>great geologist</td>\n",
       "    </tr>\n",
       "    <tr>\n",
       "      <th>1</th>\n",
       "      <td>How do I read and find my YouTube comments?</td>\n",
       "      <td>How can I see all my Youtube comments?</td>\n",
       "      <td>NaN</td>\n",
       "      <td>comments, youtube</td>\n",
       "      <td>see, youtube comments</td>\n",
       "    </tr>\n",
       "    <tr>\n",
       "      <th>2</th>\n",
       "      <td>What can make Physics easy to learn?</td>\n",
       "      <td>How can you make physics easy to learn?</td>\n",
       "      <td>NaN</td>\n",
       "      <td>easy, learn, make, physics</td>\n",
       "      <td>make physics easy, learn</td>\n",
       "    </tr>\n",
       "    <tr>\n",
       "      <th>3</th>\n",
       "      <td>What was your first sexual experience like?</td>\n",
       "      <td>What was your first sexual experience?</td>\n",
       "      <td>NaN</td>\n",
       "      <td>experience, sexual</td>\n",
       "      <td>first sexual experience</td>\n",
       "    </tr>\n",
       "    <tr>\n",
       "      <th>4</th>\n",
       "      <td>What would a Trump presidency mean for current...</td>\n",
       "      <td>How will a Trump presidency affect the student...</td>\n",
       "      <td>NaN</td>\n",
       "      <td>affect, planning, presently, presidency, stude...</td>\n",
       "      <td>study, trump presidency affect, planning, us, ...</td>\n",
       "    </tr>\n",
       "  </tbody>\n",
       "</table>\n",
       "</div>"
      ],
      "text/plain": [
       "                                               Query  \\\n",
       "0                     How can I be a good geologist?   \n",
       "1        How do I read and find my YouTube comments?   \n",
       "2               What can make Physics easy to learn?   \n",
       "3        What was your first sexual experience like?   \n",
       "4  What would a Trump presidency mean for current...   \n",
       "\n",
       "                                  Suggested_Followup  Context  \\\n",
       "0          What should I do to be a great geologist?      NaN   \n",
       "1             How can I see all my Youtube comments?      NaN   \n",
       "2            How can you make physics easy to learn?      NaN   \n",
       "3             What was your first sexual experience?      NaN   \n",
       "4  How will a Trump presidency affect the student...      NaN   \n",
       "\n",
       "                                           keyword_1  \\\n",
       "0                                   geologist, great   \n",
       "1                                  comments, youtube   \n",
       "2                         easy, learn, make, physics   \n",
       "3                                 experience, sexual   \n",
       "4  affect, planning, presently, presidency, stude...   \n",
       "\n",
       "                                           keyword_2  \n",
       "0                                    great geologist  \n",
       "1                              see, youtube comments  \n",
       "2                           make physics easy, learn  \n",
       "3                            first sexual experience  \n",
       "4  study, trump presidency affect, planning, us, ...  "
      ]
     },
     "execution_count": 10,
     "metadata": {},
     "output_type": "execute_result"
    }
   ],
   "source": [
    "data['keyword_2'] = [''] * len(data)\n",
    "\n",
    "for i in range(len(data)):\n",
    "    try:\n",
    "        data.loc[i,'keyword_2'] = ', '.join(rake_keyword(data.loc[i,'Suggested_Followup'])) # + \" \" + data.loc[i,'Query']))\n",
    "    except:\n",
    "        continue\n",
    "\n",
    "data.head(5)"
   ]
  },
  {
   "cell_type": "markdown",
   "metadata": {},
   "source": [
    "# Query Retrieval by Keywords"
   ]
  },
  {
   "cell_type": "code",
   "execution_count": 11,
   "metadata": {},
   "outputs": [],
   "source": [
    "import pandas as pd\n",
    "from fuzzywuzzy import process\n",
    "import re\n",
    "\n",
    "# Load annotated data\n",
    "# data = pd.read_csv('annotated_conversational_data.csv')\n",
    "\n",
    "# Text Preprocessing Function\n",
    "def preprocess_text(text):\n",
    "    if pd.isna(text):\n",
    "        return \"\"\n",
    "    text = text.lower()  # Lowercase\n",
    "    text = re.sub(r'[^\\w\\s]', '', text)  # Remove punctuation\n",
    "    text = re.sub(r'\\s+', ' ', text).strip()  # Remove extra spaces\n",
    "    return text\n",
    "\n",
    "# Preprocess the dataset columns\n",
    "data['Query'] = data['Query'].apply(preprocess_text)\n",
    "data['Suggested_Followup'] = data['Suggested_Followup'].apply(preprocess_text)\n",
    "data['keyword_1'] = data['keyword_1'].apply(preprocess_text)\n",
    "data['keyword_2'] = data['keyword_2'].apply(preprocess_text)\n",
    "\n",
    "# Function to find the best match and its follow-ups\n",
    "def find_best_match_and_followups(input_query, data, threshold=70):\n",
    "    \"\"\"\n",
    "    Find the best matching query in the dataset for the input query and return its follow-ups.\n",
    "\n",
    "    Args:\n",
    "        input_query (str): The user's input query.\n",
    "        data (DataFrame): The dataframe containing 'Query', 'Suggested_Followup', and keywords.\n",
    "        threshold (int): Minimum score for a match to be considered valid (0-100).\n",
    "\n",
    "    Returns:\n",
    "        tuple: The best match from the dataset and a list of its suggested follow-ups.\n",
    "    \"\"\"\n",
    "    # Preprocess the input query\n",
    "    input_query_processed = preprocess_text(input_query)\n",
    "    \n",
    "    # Combine all keywords into a single search field\n",
    "    data['combined_keywords'] = data['keyword_1'] + \" \" + data['keyword_2']\n",
    "    \n",
    "    # Search for the best match across queries and keywords\n",
    "    all_options = data['Query'].tolist() + data['combined_keywords'].tolist()\n",
    "    best_match, score = process.extractOne(input_query_processed, all_options)\n",
    "    \n",
    "    # Determine if the match is a query or a keyword\n",
    "    if best_match in data['Query'].tolist():\n",
    "        matched_query = best_match\n",
    "    else:\n",
    "        matched_query = data[data['combined_keywords'] == best_match]['Query'].iloc[0]\n",
    "    \n",
    "    # Check if the match score meets the threshold\n",
    "    if score >= threshold:\n",
    "        followups = data[data['Query'] == matched_query]['Suggested_Followup'].tolist()\n",
    "        \n",
    "        # Format suggestions: capitalize and ensure ending question marks\n",
    "        formatted_followups = [\n",
    "            suggestion.capitalize() + \"?\"\n",
    "            if not suggestion.endswith(\"?\") else suggestion.capitalize()\n",
    "            for suggestion in followups\n",
    "        ]\n",
    "        \n",
    "        # Capitalize and punctuate the matched query\n",
    "        matched_query_formatted = matched_query.capitalize() + \"?\"\n",
    "        \n",
    "        return matched_query_formatted, formatted_followups\n",
    "    else:\n",
    "        return None, [\"No matching query found in the dataset.\"]\n",
    "\n",
    "# Test with an input query\n",
    "input_query = \"yoga benefits\"\n",
    "best_match, suggested_followups = find_best_match_and_followups(input_query, data)\n",
    "\n",
    "print(\"Input Query:\", input_query)\n",
    "print(\"Best Match in Dataset:\", best_match)\n",
    "print(\"Suggested Follow-up Queries:\")\n",
    "for i, suggestion in enumerate(suggested_followups, 1):\n",
    "    print(f\"{i}. {suggestion}\")"
   ]
  },
  {
   "cell_type": "markdown",
   "metadata": {},
   "source": [
    "# BM25 Query Retrieval and Re-ranking\n",
    "reference: \n",
    "- https://dev.to/mage_ai/how-to-build-a-search-engine-with-word-embeddings-56jd\n",
    "- https://github.com/czhu12/semantic-search/blob/master/search.py"
   ]
  },
  {
   "cell_type": "code",
   "execution_count": 12,
   "metadata": {},
   "outputs": [
    {
     "name": "stdout",
     "output_type": "stream",
     "text": [
      "Requirement already satisfied: rank_bm25 in c:\\users\\zonne\\appdata\\local\\programs\\python\\python39\\lib\\site-packages (0.2.2)Note: you may need to restart the kernel to use updated packages.\n",
      "\n",
      "Requirement already satisfied: numpy in c:\\users\\zonne\\appdata\\local\\programs\\python\\python39\\lib\\site-packages (from rank_bm25) (1.26.4)\n"
     ]
    },
    {
     "name": "stderr",
     "output_type": "stream",
     "text": [
      "\n",
      "[notice] A new release of pip is available: 24.0 -> 24.3.1\n",
      "[notice] To update, run: python.exe -m pip install --upgrade pip\n"
     ]
    },
    {
     "name": "stdout",
     "output_type": "stream",
     "text": [
      "Requirement already satisfied: gensim in c:\\users\\zonne\\appdata\\local\\programs\\python\\python39\\lib\\site-packages (4.3.3)\n",
      "Requirement already satisfied: numpy<2.0,>=1.18.5 in c:\\users\\zonne\\appdata\\local\\programs\\python\\python39\\lib\\site-packages (from gensim) (1.26.4)\n",
      "Requirement already satisfied: scipy<1.14.0,>=1.7.0 in c:\\users\\zonne\\appdata\\local\\programs\\python\\python39\\lib\\site-packages (from gensim) (1.12.0)\n",
      "Requirement already satisfied: smart-open>=1.8.1 in c:\\users\\zonne\\appdata\\local\\programs\\python\\python39\\lib\\site-packages (from gensim) (7.0.5)\n",
      "Requirement already satisfied: wrapt in c:\\users\\zonne\\appdata\\local\\programs\\python\\python39\\lib\\site-packages (from smart-open>=1.8.1->gensim) (1.14.1)\n",
      "Note: you may need to restart the kernel to use updated packages.\n"
     ]
    },
    {
     "name": "stderr",
     "output_type": "stream",
     "text": [
      "\n",
      "[notice] A new release of pip is available: 24.0 -> 24.3.1\n",
      "[notice] To update, run: python.exe -m pip install --upgrade pip\n"
     ]
    }
   ],
   "source": [
    "# !pip install rank_bm25\n",
    "%pip install rank_bm25\n",
    "%pip install gensim"
   ]
  },
  {
   "cell_type": "code",
   "execution_count": 13,
   "metadata": {},
   "outputs": [],
   "source": [
    "from rank_bm25 import BM25Okapi as BM25\n",
    "import gensim\n",
    "from gensim import corpora\n",
    "import gensim.downloader as api\n",
    "import numpy as np\n",
    "import logging\n",
    "logging.basicConfig(level=logging.DEBUG)\n",
    "\n",
    "class Retriever(object):\n",
    "    def __init__(self, documents):\n",
    "        self.corpus = documents\n",
    "        self.bm25 = BM25(self.corpus)\n",
    "\n",
    "    def query(self, tokenized_query, n=100):\n",
    "        scores = self.bm25.get_scores(tokenized_query)\n",
    "        best_docs = sorted(range(len(scores)), key=lambda i: -scores[i])[:n]\n",
    "        return best_docs, [scores[i] for i in best_docs]\n",
    "\n",
    "\n",
    "class Ranker(object):\n",
    "    def __init__(self, query_embedding, document_embedding):\n",
    "        self.query_embedding = query_embedding\n",
    "        self.document_embedding = document_embedding\n",
    "\n",
    "    def _create_mean_embedding(self, word_embeddings):\n",
    "        return np.mean(\n",
    "            word_embeddings,\n",
    "            axis=0,\n",
    "        )\n",
    "\n",
    "    def _create_max_embedding(self, word_embeddings):\n",
    "        return np.amax(\n",
    "            word_embeddings,\n",
    "            axis=0,\n",
    "        )\n",
    "\n",
    "    def _embed(self, tokens, embedding):\n",
    "        word_embeddings = np.array([embedding[token] for token in tokens if token in embedding])\n",
    "        mean_embedding = self._create_mean_embedding(word_embeddings)\n",
    "        max_embedding = self._create_max_embedding(word_embeddings)\n",
    "        embedding = np.concatenate([mean_embedding, max_embedding])\n",
    "        unit_embedding = embedding / (embedding**2).sum()**0.5\n",
    "        return unit_embedding\n",
    "\n",
    "    def rank(self, tokenized_query, tokenized_documents):\n",
    "        \"\"\"\n",
    "        Re-ranks a set of documents according to embedding distance\n",
    "        \"\"\"\n",
    "        query_embedding = self._embed(tokenized_query, self.query_embedding) # (E,)\n",
    "        document_embeddings = np.array([self._embed(document, self.document_embedding) for document in tokenized_documents]) # (N, E)\n",
    "        scores = document_embeddings.dot(query_embedding)\n",
    "        index_rankings = np.argsort(scores)[::-1]\n",
    "        return index_rankings, np.sort(scores)[::-1]\n",
    "\n",
    "\n",
    "def tokenize(document):\n",
    "    return list(gensim.utils.tokenize(document.lower()))\n",
    "\n",
    "\n",
    "def show_scores(documents, scores, n=10):\n",
    "    for i in range(n):\n",
    "        print(\"======== RANK: {} | SCORE: {} =======\".format(i + 1, scores[i]))\n",
    "        print(documents[i])\n",
    "        print(\"\")\n",
    "    print(\"\\n\")"
   ]
  },
  {
   "cell_type": "code",
   "execution_count": 28,
   "metadata": {},
   "outputs": [
    {
     "name": "stdout",
     "output_type": "stream",
     "text": [
      "Input Query: physics\n"
     ]
    },
    {
     "name": "stderr",
     "output_type": "stream",
     "text": [
      "INFO:gensim.models.keyedvectors:loading projection weights from C:\\Users\\zonne/gensim-data\\glove-wiki-gigaword-50\\glove-wiki-gigaword-50.gz\n",
      "DEBUG:smart_open.smart_open_lib:{'uri': 'C:\\\\Users\\\\zonne/gensim-data\\\\glove-wiki-gigaword-50\\\\glove-wiki-gigaword-50.gz', 'mode': 'rb', 'buffering': -1, 'encoding': None, 'errors': None, 'newline': None, 'closefd': True, 'opener': None, 'compression': 'infer_from_extension', 'transport_params': None}\n"
     ]
    },
    {
     "name": "stdout",
     "output_type": "stream",
     "text": [
      "======== BM25 ========\n",
      "======== RANK: 1 | SCORE: 10.08763023251846 =======\n",
      "How is quantum physics different from classical physics?\n",
      "\n",
      "======== RANK: 2 | SCORE: 9.06246954874779 =======\n",
      "What is modern physics?\n",
      "\n",
      "======== RANK: 3 | SCORE: 8.51986856621267 =======\n",
      "Why should I study physics?\n",
      "\n",
      "======== RANK: 4 | SCORE: 8.51986856621267 =======\n",
      "What is motion in physics?\n",
      "\n",
      "======== RANK: 5 | SCORE: 8.51986856621267 =======\n",
      "Why do we study physics?\n",
      "\n",
      "======== RANK: 6 | SCORE: 8.51986856621267 =======\n",
      "Why does voltage drop? Physics?\n",
      "\n",
      "======== RANK: 7 | SCORE: 8.51986856621267 =======\n",
      "Why do you study physics?\n",
      "\n",
      "======== RANK: 8 | SCORE: 8.51986856621267 =======\n",
      "What is acceleration in physics?\n",
      "\n",
      "======== RANK: 9 | SCORE: 8.51986856621267 =======\n",
      "Why do people study physics?\n",
      "\n",
      "======== RANK: 10 | SCORE: 8.51986856621267 =======\n",
      "What is motion (in physics)?\n",
      "\n",
      "======== RANK: 11 | SCORE: 8.51986856621267 =======\n",
      "What is relativity in physics?\n",
      "\n",
      "======== RANK: 12 | SCORE: 8.51986856621267 =======\n",
      "Why did you study physics?\n",
      "\n",
      "======== RANK: 13 | SCORE: 8.51986856621267 =======\n",
      "What's acceleration in physics?\n",
      "\n",
      "======== RANK: 14 | SCORE: 8.51986856621267 =======\n",
      "How do you start learning physics?\n",
      "\n",
      "======== RANK: 15 | SCORE: 8.51986856621267 =======\n",
      "What is static friction in physics?\n",
      "\n",
      "======== RANK: 16 | SCORE: 8.51986856621267 =======\n",
      "What's best after bsc physics?\n",
      "\n",
      "======== RANK: 17 | SCORE: 8.51986856621267 =======\n",
      "How can I learn physics online?\n",
      "\n",
      "======== RANK: 18 | SCORE: 8.51986856621267 =======\n",
      "How do I make physics easy?\n",
      "\n",
      "======== RANK: 19 | SCORE: 8.51986856621267 =======\n",
      "What does modern physics consist of?\n",
      "\n",
      "======== RANK: 20 | SCORE: 8.51986856621267 =======\n",
      "What are world lines in physics?\n",
      "\n",
      "\n",
      "\n",
      "Loading glove embeddings..."
     ]
    },
    {
     "name": "stderr",
     "output_type": "stream",
     "text": [
      "DEBUG:gensim.utils:starting a new internal lifecycle event log for KeyedVectors\n",
      "INFO:gensim.utils:KeyedVectors lifecycle event {'msg': 'loaded (400000, 50) matrix of type float32 from C:\\\\Users\\\\zonne/gensim-data\\\\glove-wiki-gigaword-50\\\\glove-wiki-gigaword-50.gz', 'binary': False, 'encoding': 'utf8', 'datetime': '2024-12-09T15:51:57.671769', 'gensim': '4.3.3', 'python': '3.9.13 (tags/v3.9.13:6de2ca5, May 17 2022, 16:36:42) [MSC v.1929 64 bit (AMD64)]', 'platform': 'Windows-10-10.0.22631-SP0', 'event': 'load_word2vec_format'}\n"
     ]
    },
    {
     "name": "stdout",
     "output_type": "stream",
     "text": [
      " [DONE]\n",
      "======== Embedding ========\n",
      "======== RANK: 1 | SCORE: 0.6420209407806396 =======\n",
      "What is modern physics?\n",
      "\n",
      "======== RANK: 2 | SCORE: 0.6375982761383057 =======\n",
      "What is motion (in physics)?\n",
      "\n",
      "======== RANK: 3 | SCORE: 0.6281081438064575 =======\n",
      "How is quantum physics different from classical physics?\n",
      "\n",
      "======== RANK: 4 | SCORE: 0.606378436088562 =======\n",
      "What is motion in physics?\n",
      "\n",
      "======== RANK: 5 | SCORE: 0.5822546482086182 =======\n",
      "What is the application of quantum physics?\n",
      "\n",
      "======== RANK: 6 | SCORE: 0.5728414058685303 =======\n",
      "What is acceleration in physics?\n",
      "\n",
      "======== RANK: 7 | SCORE: 0.5692024230957031 =======\n",
      "How many forces are there in physics?\n",
      "\n",
      "======== RANK: 8 | SCORE: 0.5674735307693481 =======\n",
      "Why do we study physics?\n",
      "\n",
      "======== RANK: 9 | SCORE: 0.565054714679718 =======\n",
      "How could I do better in physics?\n",
      "\n",
      "======== RANK: 10 | SCORE: 0.5633244514465332 =======\n",
      "How do I make physics easy?\n",
      "\n",
      "======== RANK: 11 | SCORE: 0.5601915121078491 =======\n",
      "Why do people study physics?\n",
      "\n",
      "======== RANK: 12 | SCORE: 0.5537156462669373 =======\n",
      "What are some applications of quantum physics?\n",
      "\n",
      "======== RANK: 13 | SCORE: 0.5507979393005371 =======\n",
      "What are the fundamental assumptions of Physics?\n",
      "\n",
      "======== RANK: 14 | SCORE: 0.5479094982147217 =======\n",
      "How can I become genius in physics?\n",
      "\n",
      "======== RANK: 15 | SCORE: 0.5474562048912048 =======\n",
      "Why should I study physics?\n",
      "\n",
      "======== RANK: 16 | SCORE: 0.5444109439849854 =======\n",
      "What is the scope after physics honours?\n",
      "\n",
      "======== RANK: 17 | SCORE: 0.5369747877120972 =======\n",
      "What is relativity in physics?\n",
      "\n",
      "======== RANK: 18 | SCORE: 0.53688645362854 =======\n",
      "How do I calculate tension in physics?\n",
      "\n",
      "======== RANK: 19 | SCORE: 0.5362780094146729 =======\n",
      "How can I be better at physics?\n",
      "\n",
      "======== RANK: 20 | SCORE: 0.5314058065414429 =======\n",
      "Why do you study physics?\n",
      "\n",
      "\n",
      "\n"
     ]
    }
   ],
   "source": [
    "input_query = \"physics\"\n",
    "\n",
    "print(\"Input Query: {}\".format(input_query))\n",
    "\n",
    "# Tokenize\n",
    "corpus = [list(gensim.utils.tokenize(doc.lower())) for doc in data['Query'].tolist() + data['Suggested_Followup'].tolist()]\n",
    "tokenized_query = tokenize(input_query)\n",
    "\n",
    "# Retrieval\n",
    "retriever = Retriever(corpus)\n",
    "retrieval_indexes, retrieval_scores = retriever.query(tokenized_query)\n",
    "\n",
    "# Deduplicate documents during retrieval\n",
    "retrieved_documents = []\n",
    "for idx in retrieval_indexes:\n",
    "    if documents[idx] not in retrieved_documents:\n",
    "        retrieved_documents.append(documents[idx])\n",
    "\n",
    "print(\"======== BM25 ========\")\n",
    "show_scores(retrieved_documents, retrieval_scores, 20)\n",
    "\n",
    "# Deduplicate tokenized retrieved documents during retrieval\n",
    "tokenzed_retrieved_documents = []\n",
    "for idx in retrieval_indexes:\n",
    "    if corpus[idx] not in tokenzed_retrieved_documents:\n",
    "        tokenzed_retrieved_documents.append(corpus[idx])\n",
    "\n",
    "# Re-ranking\n",
    "print(\"Loading glove embeddings...\", end=\"\")\n",
    "query_embedding = api.load('glove-wiki-gigaword-50')\n",
    "print(\" [DONE]\")\n",
    "\n",
    "ranker = Ranker(query_embedding=query_embedding, document_embedding=query_embedding)\n",
    "ranker_indexes, ranker_scores = ranker.rank(tokenized_query, tokenzed_retrieved_documents)\n",
    "\n",
    "# Deduplicate reranked documents\n",
    "reranked_documents = []\n",
    "for idx in ranker_indexes:\n",
    "    if retrieved_documents[idx] not in reranked_documents:\n",
    "        reranked_documents.append(retrieved_documents[idx])\n",
    "\n",
    "print(\"======== Embedding ========\")\n",
    "show_scores(reranked_documents, ranker_scores, 20)\n"
   ]
  },
  {
   "cell_type": "code",
   "execution_count": null,
   "metadata": {},
   "outputs": [],
   "source": []
  }
 ],
 "metadata": {
  "colab": {
   "provenance": []
  },
  "kernelspec": {
   "display_name": "Python 3 (ipykernel)",
   "language": "python",
   "name": "python3"
  },
  "language_info": {
   "codemirror_mode": {
    "name": "ipython",
    "version": 3
   },
   "file_extension": ".py",
   "mimetype": "text/x-python",
   "name": "python",
   "nbconvert_exporter": "python",
   "pygments_lexer": "ipython3",
   "version": "3.9.19"
  }
 },
 "nbformat": 4,
 "nbformat_minor": 4
}
