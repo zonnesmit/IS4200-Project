{
  "nbformat": 4,
  "nbformat_minor": 0,
  "metadata": {
    "colab": {
      "provenance": []
    },
    "kernelspec": {
      "name": "python3",
      "display_name": "Python 3"
    },
    "language_info": {
      "name": "python"
    }
  },
  "cells": [
    {
      "cell_type": "code",
      "execution_count": null,
      "metadata": {
        "id": "bB1uDjfZb2iy"
      },
      "outputs": [],
      "source": [
        "import pandas as pd\n",
        "\n",
        "data = pd.read_csv('quora_question_pairs.csv')\n",
        "duplicates = data[data['is_duplicate'] == 1]\n",
        "filtered_data = duplicates[['question1', 'question2']]\n"
      ]
    },
    {
      "cell_type": "code",
      "source": [
        "exploratory_starters = ['What', 'How', 'Why', 'Explain']\n",
        "\n",
        "def is_exploratory(question):\n",
        "    return any(question.strip().startswith(starter) for starter in exploratory_starters)\n",
        "\n",
        "filtered_data = filtered_data[\n",
        "    filtered_data['question1'].apply(is_exploratory) &\n",
        "    filtered_data['question2'].apply(is_exploratory)\n",
        "]\n"
      ],
      "metadata": {
        "id": "vsSOnjpweEQQ"
      },
      "execution_count": null,
      "outputs": []
    },
    {
      "cell_type": "code",
      "source": [
        "annotated_data = filtered_data.rename(columns={\n",
        "    'question1': 'Query',\n",
        "    'question2': 'Suggested_Followup'\n",
        "})\n",
        "annotated_data['Context'] = \"\"\n",
        "\n",
        "annotated_data.to_csv('annotated_conversational_data.csv', index=False)\n"
      ],
      "metadata": {
        "id": "k2UOvrz-eHMY"
      },
      "execution_count": null,
      "outputs": []
    },
    {
      "cell_type": "code",
      "source": [
        "small_dataset = annotated_data.sample(50, random_state=42)\n",
        "small_dataset.to_csv('small_annotated_data.csv', index=False)\n"
      ],
      "metadata": {
        "id": "c-Ppnz1feNsn"
      },
      "execution_count": null,
      "outputs": []
    },
    {
      "cell_type": "markdown",
      "source": [
        "# TF-IDF\n",
        "### Start from here"
      ],
      "metadata": {
        "id": "0nhLrW01esxK"
      }
    },
    {
      "cell_type": "code",
      "source": [
        "import pandas as pd\n",
        "\n",
        "data = pd.read_csv('annotated_conversational_data.csv')\n",
        "queries = data['Query'].tolist()\n",
        "suggestions = data['Suggested_Followup'].tolist()\n",
        "\n",
        "documents = queries + suggestions\n"
      ],
      "metadata": {
        "id": "6FX2ICqMeuv7"
      },
      "execution_count": null,
      "outputs": []
    },
    {
      "cell_type": "code",
      "source": [
        "from sklearn.feature_extraction.text import TfidfVectorizer\n",
        "\n",
        "vectorizer = TfidfVectorizer(stop_words='english', lowercase=True)\n",
        "tfidf_matrix = vectorizer.fit_transform(documents)\n"
      ],
      "metadata": {
        "id": "9DwHADK-ex6T"
      },
      "execution_count": null,
      "outputs": []
    },
    {
      "cell_type": "code",
      "source": [
        "from sklearn.metrics.pairwise import cosine_similarity\n",
        "\n",
        "def suggest_queries(input_query, vectorizer, tfidf_matrix, documents, top_n=3):\n",
        "    \"\"\"\n",
        "    Suggest follow-up queries based on an input query.\n",
        "\n",
        "    Args:\n",
        "        input_query (str): The initial query input by the user.\n",
        "        vectorizer (TfidfVectorizer): The fitted TF-IDF vectorizer.\n",
        "        tfidf_matrix (sparse matrix): TF-IDF matrix of the documents.\n",
        "        documents (list): List of documents (queries and suggestions).\n",
        "        top_n (int): Number of suggestions to return.\n",
        "\n",
        "    Returns:\n",
        "        list: Ranked list of suggested queries.\n",
        "    \"\"\"\n",
        "    input_vector = vectorizer.transform([input_query])\n",
        "    similarities = cosine_similarity(input_vector, tfidf_matrix).flatten()\n",
        "    ranked_indices = similarities.argsort()[::-1][:top_n]\n",
        "\n",
        "    return [documents[i] for i in ranked_indices if documents[i] != input_query][:top_n]\n"
      ],
      "metadata": {
        "id": "mxyVKcfhe2zz"
      },
      "execution_count": null,
      "outputs": []
    },
    {
      "cell_type": "markdown",
      "source": [
        "# Test follow-up queries"
      ],
      "metadata": {
        "id": "nweto-HzoZBS"
      }
    },
    {
      "cell_type": "code",
      "source": [
        "input_query = \"What are the benefits of yoga?\"\n",
        "suggested_queries = suggest_queries(input_query, vectorizer, tfidf_matrix, documents)\n",
        "\n",
        "print(\"Input Query:\", input_query)\n",
        "print(\"Suggested Follow-up Queries:\")\n",
        "for i, suggestion in enumerate(suggested_queries, 1):\n",
        "    print(f\"{i}. {suggestion}\")\n"
      ],
      "metadata": {
        "colab": {
          "base_uri": "https://localhost:8080/"
        },
        "id": "7kk0aRJFe5sU",
        "outputId": "20b22ab9-38c2-4554-9516-f89b3e1bbbf0"
      },
      "execution_count": null,
      "outputs": [
        {
          "output_type": "stream",
          "name": "stdout",
          "text": [
            "Input Query: What are the benefits of yoga?\n",
            "Suggested Follow-up Queries:\n",
            "1. How do you do yoga?\n",
            "2. What is yoga all about?\n",
            "3. What is yoga for?\n"
          ]
        }
      ]
    },
    {
      "cell_type": "code",
      "source": [
        "def precision_at_k(relevant, retrieved, k):\n",
        "    return len(set(relevant) & set(retrieved[:k])) / k\n",
        "\n",
        "relevant_suggestions = [\"How does yoga improve health?\", \"What are the mental benefits of yoga?\"]\n",
        "precision = precision_at_k(relevant_suggestions, suggested_queries, k=3)\n",
        "print(\"Precision@3:\", precision)\n"
      ],
      "metadata": {
        "colab": {
          "base_uri": "https://localhost:8080/"
        },
        "id": "qKBtGjN-e9oq",
        "outputId": "6af41337-2865-4214-a6dc-d3a48f4c554d"
      },
      "execution_count": null,
      "outputs": [
        {
          "output_type": "stream",
          "name": "stdout",
          "text": [
            "Precision@3: 0.0\n"
          ]
        }
      ]
    }
  ]
}